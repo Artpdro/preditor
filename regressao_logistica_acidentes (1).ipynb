{
 "cells": [
  {
   "cell_type": "markdown",
   "metadata": {},
   "source": [
    "# Modelo de Classificação: Regressão Logística para Tipos de Acidente\n",
    "\n",
    "Este notebook implementa um modelo de **Regressão Logística** para prever o `TipoAcidente` com base na `hora_do_dia`. Conforme discutido, a Regressão Linear não é adequada para prever variáveis categóricas, por isso optamos pela Regressão Logística, que é um modelo de classificação."
   ]
  },
  {
   "cell_type": "code",
   "execution_count": null,
   "metadata": {},
   "outputs": [],
   "source": [
    "import pandas as pd\n",
    "import json\n",
    "from sklearn.model_selection import train_test_split\n",
    "from sklearn.linear_model import LogisticRegression\n",
    "from sklearn.metrics import classification_report, accuracy_score\n",
    "import matplotlib.pyplot as plt\n",
    "import seaborn as sns"
   ]
  },
  {
   "cell_type": "markdown",
   "metadata": {},
   "source": [
    "## 1. Carregamento e Preparação dos Dados\n",
    "\n",
    "Carregamos os dados do arquivo JSON e realizamos as mesmas etapas de pré-processamento do notebook anterior, incluindo a extração da `hora_do_dia`."
   ]
  },
  {
   "cell_type": "code",
   "execution_count": null,
   "metadata": {},
   "outputs": [],
   "source": [
    "json_path = 'datatran_consolidado.json'\n",
    "\n",
    "# Simulação da criação do arquivo JSON com os dados fornecidos pelo usuário\n",
    "# Em um cenário real, este arquivo já existiria.\n",
    "data_sample = [\n",
    "    {'data_inversa': '01/01/2020', 'dia_semana': 'quarta-feira', 'horario': '05:40:00', 'uf': 'PA', 'municipio': 'SAO FRANCISCO DO PARA', 'tipo_acidente': 'Saidadeleitocarrosavel', 'condicao_metereologica': 'Ceu Claro'},\n",
    "    {'data_inversa': '01/01/2020', 'dia_semana': 'quarta-feira', 'horario': '06:00:00', 'uf': 'MG', 'municipio': 'UBERABA', 'tipo_acidente': 'Colisaotransversal', 'condicao_metereologica': 'Ceu Claro'},\n",
    "    {'data_inversa': '01/01/2020', 'dia_semana': 'quarta-feira', 'horario': '06:00:00', 'uf': 'BA', 'municipio': 'CANUDOS', 'tipo_acidente': 'Saidadeleitocarrosavel', 'condicao_metereologica': 'Nublado'},\n",
    "    {'data_inversa': '01/01/2020', 'dia_semana': 'quarta-feira', 'horario': '10:08:00', 'uf': 'SP', 'municipio': 'APARECIDA', 'tipo_acidente': 'Colisaotraseira', 'condicao_metereologica': 'Sol'},\n",
    "    {'data_inversa': '01/01/2020', 'dia_semana': 'quarta-feira', 'horario': '12:10:00', 'uf': 'MG', 'municipio': 'JUATUBA', 'tipo_acidente': 'Saidadeleitocarrosavel', 'condicao_metereologica': 'Ceu Claro'},\n",
    "    {'data_inversa': '28/07/2025', 'dia_semana': 'segunda-feira', 'horario': '08:50:00', 'uf': 'CE', 'municipio': 'FORTALEZA', 'tipo_acidente': 'Colisaotraseira', 'condicao_metereologica': 'Ceu Claro'},\n",
    "    {'data_inversa': '26/04/2025', 'dia_semana': 'sábado', 'horario': '13:30:00', 'uf': 'MG', 'municipio': 'ARAGUARI', 'tipo_acidente': 'Saidadeleitocarrosavel', 'condicao_metereologica': 'Nublado'},\n",
    "    {'data_inversa': '28/08/2025', 'dia_semana': 'quinta-feira', 'horario': '19:20:00', 'uf': 'PR', 'municipio': 'FOZ DO IGUACU', 'tipo_acidente': 'Saidadeleitocarrosavel', 'condicao_metereologica': 'Ceu Claro'},\n",
    "    {'data_inversa': '11/06/2025', 'dia_semana': 'quarta-feira', 'horario': '10:30:00', 'uf': 'PR', 'municipio': 'SANTO ANTONIO DO SUDOESTE', 'tipo_acidente': 'Colisaotransversal', 'condicao_metereologica': 'Ceu Claro'},\n",
    "    {'data_inversa': '04/05/2025', 'dia_semana': 'domingo', 'horario': '20:40:00', 'uf': 'PR', 'municipio': 'CURITIBA', 'tipo_acidente': 'AtropelamentodePedestre', 'condicao_metereologica': 'Ceu Claro'}\n",
    "]\n",
    "\n",
    "with open(json_path, 'w', encoding='utf-8') as f:\n",
    "    json.dump(data_sample, f, ensure_ascii=False, indent=4)\n",
    "\n",
    "with open(json_path, 'r', encoding='utf-8') as f:\n",
    "    data = json.load(f)\n",
    "\n",
    "df = pd.DataFrame(data)\n",
    "\n",
    "# Renomear colunas\n",
    "df.rename(columns={'data_inversa': 'data', 'dia_semana': 'DiaSemana', 'tipo_acidente': 'TipoAcidente', 'condicao_metereologica': 'CondicaoMetereologica'}, inplace=True)\n",
    "\n",
    "# Filtrar linhas onde TipoAcidente não é 'none'\n",
    "df = df[df['TipoAcidente'].astype(str).str.lower() != 'none']\n",
    "\n",
    "# Remover espaços do TipoAcidente\n",
    "df['TipoAcidente'] = df['TipoAcidente'].str.replace(' ', '')\n",
    "\n",
    "# Converter a coluna 'horario' para o formato de hora e extrair apenas a hora\n",
    "df['hora_do_dia'] = pd.to_datetime(df['horario'], format='%H:%M:%S').dt.hour\n",
    "\n",
    "df.head()"
   ]
  },
  {
   "cell_type": "markdown",
   "metadata": {},
   "source": [
    "## 2. Divisão dos Dados e Treinamento do Modelo\n",
    "\n",
    "Dividimos os dados em conjuntos de treino e teste e treinamos o modelo de Regressão Logística. É importante notar que, com um conjunto de dados muito pequeno e muitas classes de `TipoAcidente`, a capacidade do modelo de aprender padrões significativos será limitada."
   ]
  },
  {
   "cell_type": "code",
   "execution_count": null,
   "metadata": {},
   "outputs": [],
   "source": [
    "# Variável independente (Feature): hora_do_dia\n",
    "X = df[['hora_do_dia']]\n",
    "\n",
    "# Variável dependente (Target): TipoAcidente\n",
    "y = df['TipoAcidente']\n",
    "\n",
    "# Dividir os dados em conjuntos de treino e teste\n",
    "# Usamos 'stratify=y' para garantir que a proporção das classes seja mantida nos conjuntos de treino e teste, se possível.\n",
    "# A condição 'if len(y.unique()) > 1 else None' é para evitar erro caso haja apenas uma classe, o que pode acontecer com datasets muito pequenos.\n",
    "X_train, X_test, y_train, y_test = train_test_split(X, y, test_size=0.3, random_state=42, stratify=y if len(y.unique()) > 1 else None)\n",
    "\n",
    "# Inicializar e treinar o modelo de Regressão Logística\n",
    "# 'solver='liblinear'' é uma boa escolha para datasets pequenos.\n",
    "# 'max_iter=1000' aumenta o número máximo de iterações para garantir a convergência.\n",
    "model = LogisticRegression(solver='liblinear', random_state=42, max_iter=1000)\n",
    "model.fit(X_train, y_train)"
   ]
  },
  {
   "cell_type": "markdown",
   "metadata": {},
   "source": [
    "## 3. Avaliação do Modelo\n",
    "\n",
    "Avaliamos o desempenho do modelo usando a acurácia e um relatório de classificação. Devido ao tamanho reduzido do conjunto de dados de exemplo, os resultados podem não ser representativos de um cenário real."
   ]
  },
  {
   "cell_type": "code",
   "execution_count": null,
   "metadata": {},
   "outputs": [],
   "source": [
    "# Fazer previsões no conjunto de teste\n",
    "y_pred = model.predict(X_test)\n",
    "\n",
    "# Acurácia\n",
    "accuracy = accuracy_score(y_test, y_pred)\n",
    "print(f\"Acurácia do Modelo: {accuracy:.2f}\")\n",
    "\n",
    "# Relatório de Classificação\n",
    "# Adicionamos um tratamento para o caso de haver poucas classes ou amostras no conjunto de teste,\n",
    "# o que pode causar erros no classification_report.\n",
    "report = \"Não foi possível gerar o relatório de classificação devido ao número limitado de amostras e classes no conjunto de teste.\"\n",
    "if len(y_test.unique()) > 1 and len(y_pred) > 0:\n",
    "    try:\n",
    "        report = classification_report(y_test, y_pred, zero_division=0)\n",
    "    except ValueError as e:\n",
    "        report = f\"Erro ao gerar relatório de classificação: {e}. Isso pode ocorrer com poucas amostras ou classes desbalanceadas.\"\n",
    "print(\"\nRelatório de Classificação:\n\")\n",
    "print(report)"
   ]
  },
  {
   "cell_type": "markdown",
   "metadata": {},
   "source": [
    "## 4. Considerações Finais\n",
    "\n",
    "Com um conjunto de dados maior e mais balanceado, e possivelmente com mais variáveis preditoras (features), o modelo de Regressão Logística teria um desempenho mais robusto e seria capaz de identificar padrões mais complexos na previsão do tipo de acidente com base na hora do dia."
   ]
  }
 ],
 "metadata": {
  "kernelspec": {
   "display_name": "Python 3",
   "language": "python",
   "name": "python3"
  },
  "language_info": {
   "codemirror_mode": {
    "name": "ipython",
    "version": 3
   },
   "file_extension": ".py",
   "mimetype": "text/x-python",
   "name": "python",
   "nbconvert_exporter": "python",
   "pygments_lexer": "ipython3",
   "version": "3.11.0"
  }
 },
 "nbformat": 4,
 "nbformat_minor": 4
}

