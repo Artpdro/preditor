{
 "cells": [
  {
   "cell_type": "markdown",
   "metadata": {},
   "source": [
    "# Análise de Acidentes de Trânsito\n",
    "\n",
    "Este notebook realiza uma análise exploratória dos dados de acidentes de trânsito, com foco na visualização da relação entre o tipo de acidente e o horário em que ocorrem."
   ]
  },
  {
   "cell_type": "code",
   "execution_count": 13,
   "metadata": {},
   "outputs": [],
   "source": [
    "import pandas as pd\n",
    "import json\n",
    "import matplotlib.pyplot as plt\n",
    "import seaborn as sns"
   ]
  },
  {
   "cell_type": "markdown",
   "metadata": {},
   "source": [
    "## 1. Carregamento e Preparação dos Dados\n",
    "\n",
    "Primeiro, carregamos os dados de um arquivo JSON. Como o arquivo `datatran_consolidado.json` não está disponível, vamos criar uma amostra baseada nos dados que você forneceu para que o código possa ser executado."
   ]
  },
  {
   "cell_type": "code",
   "execution_count": 14,
   "metadata": {},
   "outputs": [
    {
     "data": {
      "text/html": [
       "<div>\n",
       "<style scoped>\n",
       "    .dataframe tbody tr th:only-of-type {\n",
       "        vertical-align: middle;\n",
       "    }\n",
       "\n",
       "    .dataframe tbody tr th {\n",
       "        vertical-align: top;\n",
       "    }\n",
       "\n",
       "    .dataframe thead th {\n",
       "        text-align: right;\n",
       "    }\n",
       "</style>\n",
       "<table border=\"1\" class=\"dataframe\">\n",
       "  <thead>\n",
       "    <tr style=\"text-align: right;\">\n",
       "      <th></th>\n",
       "      <th>data_inversa</th>\n",
       "      <th>dia_semana</th>\n",
       "      <th>horario</th>\n",
       "      <th>uf</th>\n",
       "      <th>municipio</th>\n",
       "      <th>tipo_acidente</th>\n",
       "      <th>condicao_metereologica</th>\n",
       "    </tr>\n",
       "  </thead>\n",
       "  <tbody>\n",
       "    <tr>\n",
       "      <th>0</th>\n",
       "      <td>01/01/2020</td>\n",
       "      <td>quarta-feira</td>\n",
       "      <td>05:40:00</td>\n",
       "      <td>PA</td>\n",
       "      <td>SAO FRANCISCO DO PARA</td>\n",
       "      <td>Saidadeleitocarrosavel</td>\n",
       "      <td>Ceu Claro</td>\n",
       "    </tr>\n",
       "    <tr>\n",
       "      <th>1</th>\n",
       "      <td>01/01/2020</td>\n",
       "      <td>quarta-feira</td>\n",
       "      <td>06:00:00</td>\n",
       "      <td>MG</td>\n",
       "      <td>UBERABA</td>\n",
       "      <td>Colisaotransversal</td>\n",
       "      <td>Ceu Claro</td>\n",
       "    </tr>\n",
       "    <tr>\n",
       "      <th>2</th>\n",
       "      <td>01/01/2020</td>\n",
       "      <td>quarta-feira</td>\n",
       "      <td>06:00:00</td>\n",
       "      <td>BA</td>\n",
       "      <td>CANUDOS</td>\n",
       "      <td>Saidadeleitocarrosavel</td>\n",
       "      <td>Nublado</td>\n",
       "    </tr>\n",
       "    <tr>\n",
       "      <th>3</th>\n",
       "      <td>01/01/2020</td>\n",
       "      <td>quarta-feira</td>\n",
       "      <td>10:08:00</td>\n",
       "      <td>SP</td>\n",
       "      <td>APARECIDA</td>\n",
       "      <td>Colisaotraseira</td>\n",
       "      <td>Sol</td>\n",
       "    </tr>\n",
       "    <tr>\n",
       "      <th>4</th>\n",
       "      <td>01/01/2020</td>\n",
       "      <td>quarta-feira</td>\n",
       "      <td>12:10:00</td>\n",
       "      <td>MG</td>\n",
       "      <td>JUATUBA</td>\n",
       "      <td>Saidadeleitocarrosavel</td>\n",
       "      <td>Ceu Claro</td>\n",
       "    </tr>\n",
       "    <tr>\n",
       "      <th>5</th>\n",
       "      <td>28/07/2025</td>\n",
       "      <td>segunda-feira</td>\n",
       "      <td>08:50:00</td>\n",
       "      <td>CE</td>\n",
       "      <td>FORTALEZA</td>\n",
       "      <td>Colisaotraseira</td>\n",
       "      <td>Ceu Claro</td>\n",
       "    </tr>\n",
       "    <tr>\n",
       "      <th>6</th>\n",
       "      <td>26/04/2025</td>\n",
       "      <td>sábado</td>\n",
       "      <td>13:30:00</td>\n",
       "      <td>MG</td>\n",
       "      <td>ARAGUARI</td>\n",
       "      <td>Saidadeleitocarrosavel</td>\n",
       "      <td>Nublado</td>\n",
       "    </tr>\n",
       "    <tr>\n",
       "      <th>7</th>\n",
       "      <td>28/08/2025</td>\n",
       "      <td>quinta-feira</td>\n",
       "      <td>19:20:00</td>\n",
       "      <td>PR</td>\n",
       "      <td>FOZ DO IGUACU</td>\n",
       "      <td>Saidadeleitocarrosavel</td>\n",
       "      <td>Ceu Claro</td>\n",
       "    </tr>\n",
       "    <tr>\n",
       "      <th>8</th>\n",
       "      <td>11/06/2025</td>\n",
       "      <td>quarta-feira</td>\n",
       "      <td>10:30:00</td>\n",
       "      <td>PR</td>\n",
       "      <td>SANTO ANTONIO DO SUDOESTE</td>\n",
       "      <td>Colisaotransversal</td>\n",
       "      <td>Ceu Claro</td>\n",
       "    </tr>\n",
       "    <tr>\n",
       "      <th>9</th>\n",
       "      <td>04/05/2025</td>\n",
       "      <td>domingo</td>\n",
       "      <td>20:40:00</td>\n",
       "      <td>PR</td>\n",
       "      <td>CURITIBA</td>\n",
       "      <td>AtropelamentodePedestre</td>\n",
       "      <td>Ceu Claro</td>\n",
       "    </tr>\n",
       "  </tbody>\n",
       "</table>\n",
       "</div>"
      ],
      "text/plain": [
       "  data_inversa     dia_semana   horario  uf                  municipio  \\\n",
       "0   01/01/2020   quarta-feira  05:40:00  PA      SAO FRANCISCO DO PARA   \n",
       "1   01/01/2020   quarta-feira  06:00:00  MG                    UBERABA   \n",
       "2   01/01/2020   quarta-feira  06:00:00  BA                    CANUDOS   \n",
       "3   01/01/2020   quarta-feira  10:08:00  SP                  APARECIDA   \n",
       "4   01/01/2020   quarta-feira  12:10:00  MG                    JUATUBA   \n",
       "5   28/07/2025  segunda-feira  08:50:00  CE                  FORTALEZA   \n",
       "6   26/04/2025         sábado  13:30:00  MG                   ARAGUARI   \n",
       "7   28/08/2025   quinta-feira  19:20:00  PR              FOZ DO IGUACU   \n",
       "8   11/06/2025   quarta-feira  10:30:00  PR  SANTO ANTONIO DO SUDOESTE   \n",
       "9   04/05/2025        domingo  20:40:00  PR                   CURITIBA   \n",
       "\n",
       "             tipo_acidente condicao_metereologica  \n",
       "0   Saidadeleitocarrosavel              Ceu Claro  \n",
       "1       Colisaotransversal              Ceu Claro  \n",
       "2   Saidadeleitocarrosavel                Nublado  \n",
       "3          Colisaotraseira                    Sol  \n",
       "4   Saidadeleitocarrosavel              Ceu Claro  \n",
       "5          Colisaotraseira              Ceu Claro  \n",
       "6   Saidadeleitocarrosavel                Nublado  \n",
       "7   Saidadeleitocarrosavel              Ceu Claro  \n",
       "8       Colisaotransversal              Ceu Claro  \n",
       "9  AtropelamentodePedestre              Ceu Claro  "
      ]
     },
     "execution_count": 14,
     "metadata": {},
     "output_type": "execute_result"
    }
   ],
   "source": [
    "json_path = 'datatran_consolidado.json'\n",
    "\n",
    "with open(json_path, 'r', encoding='utf-8') as f:\n",
    "    data = json.load(f)\n",
    "\n",
    "df = pd.DataFrame(data)\n",
    "\n",
    "df"
   ]
  },
  {
   "cell_type": "markdown",
   "metadata": {},
   "source": [
    "### Limpeza e Transformação dos Dados\n",
    "\n",
    "Realizamos as mesmas transformações que você fez, como renomear colunas e limpar os dados. A etapa mais importante aqui é a **conversão da coluna `horario`**."
   ]
  },
  {
   "cell_type": "code",
   "execution_count": 15,
   "metadata": {},
   "outputs": [
    {
     "data": {
      "text/html": [
       "<div>\n",
       "<style scoped>\n",
       "    .dataframe tbody tr th:only-of-type {\n",
       "        vertical-align: middle;\n",
       "    }\n",
       "\n",
       "    .dataframe tbody tr th {\n",
       "        vertical-align: top;\n",
       "    }\n",
       "\n",
       "    .dataframe thead th {\n",
       "        text-align: right;\n",
       "    }\n",
       "</style>\n",
       "<table border=\"1\" class=\"dataframe\">\n",
       "  <thead>\n",
       "    <tr style=\"text-align: right;\">\n",
       "      <th></th>\n",
       "      <th>data</th>\n",
       "      <th>DiaSemana</th>\n",
       "      <th>horario</th>\n",
       "      <th>uf</th>\n",
       "      <th>municipio</th>\n",
       "      <th>TipoAcidente</th>\n",
       "      <th>CondicaoMetereologica</th>\n",
       "      <th>hora_do_dia</th>\n",
       "    </tr>\n",
       "  </thead>\n",
       "  <tbody>\n",
       "    <tr>\n",
       "      <th>0</th>\n",
       "      <td>01/01/2020</td>\n",
       "      <td>quarta-feira</td>\n",
       "      <td>05:40:00</td>\n",
       "      <td>PA</td>\n",
       "      <td>SAO FRANCISCO DO PARA</td>\n",
       "      <td>Saidadeleitocarrosavel</td>\n",
       "      <td>Ceu Claro</td>\n",
       "      <td>5</td>\n",
       "    </tr>\n",
       "    <tr>\n",
       "      <th>1</th>\n",
       "      <td>01/01/2020</td>\n",
       "      <td>quarta-feira</td>\n",
       "      <td>06:00:00</td>\n",
       "      <td>MG</td>\n",
       "      <td>UBERABA</td>\n",
       "      <td>Colisaotransversal</td>\n",
       "      <td>Ceu Claro</td>\n",
       "      <td>6</td>\n",
       "    </tr>\n",
       "    <tr>\n",
       "      <th>2</th>\n",
       "      <td>01/01/2020</td>\n",
       "      <td>quarta-feira</td>\n",
       "      <td>06:00:00</td>\n",
       "      <td>BA</td>\n",
       "      <td>CANUDOS</td>\n",
       "      <td>Saidadeleitocarrosavel</td>\n",
       "      <td>Nublado</td>\n",
       "      <td>6</td>\n",
       "    </tr>\n",
       "    <tr>\n",
       "      <th>3</th>\n",
       "      <td>01/01/2020</td>\n",
       "      <td>quarta-feira</td>\n",
       "      <td>10:08:00</td>\n",
       "      <td>SP</td>\n",
       "      <td>APARECIDA</td>\n",
       "      <td>Colisaotraseira</td>\n",
       "      <td>Sol</td>\n",
       "      <td>10</td>\n",
       "    </tr>\n",
       "    <tr>\n",
       "      <th>4</th>\n",
       "      <td>01/01/2020</td>\n",
       "      <td>quarta-feira</td>\n",
       "      <td>12:10:00</td>\n",
       "      <td>MG</td>\n",
       "      <td>JUATUBA</td>\n",
       "      <td>Saidadeleitocarrosavel</td>\n",
       "      <td>Ceu Claro</td>\n",
       "      <td>12</td>\n",
       "    </tr>\n",
       "  </tbody>\n",
       "</table>\n",
       "</div>"
      ],
      "text/plain": [
       "         data     DiaSemana   horario  uf              municipio  \\\n",
       "0  01/01/2020  quarta-feira  05:40:00  PA  SAO FRANCISCO DO PARA   \n",
       "1  01/01/2020  quarta-feira  06:00:00  MG                UBERABA   \n",
       "2  01/01/2020  quarta-feira  06:00:00  BA                CANUDOS   \n",
       "3  01/01/2020  quarta-feira  10:08:00  SP              APARECIDA   \n",
       "4  01/01/2020  quarta-feira  12:10:00  MG                JUATUBA   \n",
       "\n",
       "             TipoAcidente CondicaoMetereologica  hora_do_dia  \n",
       "0  Saidadeleitocarrosavel             Ceu Claro            5  \n",
       "1      Colisaotransversal             Ceu Claro            6  \n",
       "2  Saidadeleitocarrosavel               Nublado            6  \n",
       "3         Colisaotraseira                   Sol           10  \n",
       "4  Saidadeleitocarrosavel             Ceu Claro           12  "
      ]
     },
     "execution_count": 15,
     "metadata": {},
     "output_type": "execute_result"
    }
   ],
   "source": [
    "# Renomear colunas\n",
    "df.rename(columns={'data_inversa': 'data', 'dia_semana': 'DiaSemana', 'tipo_acidente': 'TipoAcidente', 'condicao_metereologica': 'CondicaoMetereologica'}, inplace=True)\n",
    "\n",
    "# Filtrar linhas onde TipoAcidente não é 'none'\n",
    "df = df[df['TipoAcidente'].astype(str).str.lower() != 'none']\n",
    "\n",
    "# Remover espaços do TipoAcidente\n",
    "df['TipoAcidente'] = df['TipoAcidente'].str.replace(' ', '')\n",
    "\n",
    "# **[CORREÇÃO]** Converter a coluna 'horario' para um valor numérico (hora do dia)\n",
    "# Isso transforma a string 'HH:MM:SS' em um número de 0 a 23, que pode ser usado em gráficos.\n",
    "df['hora_do_dia'] = pd.to_datetime(df['horario'], format='%H:%M:%S').dt.hour\n",
    "\n",
    "# Exibir as primeiras linhas para verificar a nova coluna\n",
    "df.head()"
   ]
  },
  {
   "cell_type": "markdown",
   "metadata": {},
   "source": [
    "## 2. Visualização dos Dados\n",
    "\n",
    "Agora que os dados estão preparados, podemos criar visualizações adequadas."
   ]
  },
  {
   "cell_type": "markdown",
   "metadata": {},
   "source": [
    "### Gráfico 1: Contagem de Tipos de Acidente\n",
    "\n",
    "Um gráfico de barras é ideal para ver a frequência de cada tipo de acidente."
   ]
  },
  {
   "cell_type": "code",
   "execution_count": 16,
   "metadata": {},
   "outputs": [
    {
     "name": "stderr",
     "output_type": "stream",
     "text": [
      "C:\\Users\\Fábio\\AppData\\Local\\Temp\\ipykernel_17724\\739409567.py:2: FutureWarning: \n",
      "\n",
      "Passing `palette` without assigning `hue` is deprecated and will be removed in v0.14.0. Assign the `y` variable to `hue` and set `legend=False` for the same effect.\n",
      "\n",
      "  sns.countplot(data=df, y='TipoAcidente', order=df['TipoAcidente'].value_counts().index, palette='viridis')\n"
     ]
    },
    {
     "data": {
      "image/png": "[encoded data removed]",
      "text/plain": [
       "<Figure size 1200x600 with 1 Axes>"
      ]
     },
     "metadata": {},
     "output_type": "display_data"
    }
   ],
   "source": [
    "plt.figure(figsize=(12, 6))\n",
    "sns.countplot(data=df, y='TipoAcidente', order=df['TipoAcidente'].value_counts().index, palette='viridis')\n",
    "plt.title('Contagem de Tipos de Acidente', fontsize=16)\n",
    "plt.xlabel('Número de Acidentes', fontsize=12)\n",
    "plt.ylabel('Tipo de Acidente', fontsize=12)\n",
    "plt.tight_layout() # Ajusta o gráfico para não cortar os rótulos\n",
    "plt.show()"
   ]
  },
  {
   "cell_type": "markdown",
   "metadata": {},
   "source": [
    "### Gráfico 2: Distribuição de Horários por Tipo de Acidente (Boxplot)\n",
    "\n",
    "Este é o gráfico que resolve o problema original. Um boxplot nos permite visualizar a distribuição da `hora_do_dia` (eixo numérico) para cada `TipoAcidente` (eixo categórico)."
   ]
  },
  {
   "cell_type": "code",
   "execution_count": 17,
   "metadata": {},
   "outputs": [
    {
     "name": "stderr",
     "output_type": "stream",
     "text": [
      "C:\\Users\\Fábio\\AppData\\Local\\Temp\\ipykernel_17724\\1851991707.py:2: FutureWarning: \n",
      "\n",
      "Passing `palette` without assigning `hue` is deprecated and will be removed in v0.14.0. Assign the `y` variable to `hue` and set `legend=False` for the same effect.\n",
      "\n",
      "  sns.boxplot(data=df, x='hora_do_dia', y='TipoAcidente', palette='coolwarm', order=df['TipoAcidente'].value_counts().index)\n"
     ]
    },
    {
     "data": {
      "image/png": "[encoded data removed]",
      "text/plain": [
       "<Figure size 1400x800 with 1 Axes>"
      ]
     },
     "metadata": {},
     "output_type": "display_data"
    }
   ],
   "source": [
    "plt.figure(figsize=(14, 8))\n",
    "sns.boxplot(data=df, x='hora_do_dia', y='TipoAcidente', palette='coolwarm', order=df['TipoAcidente'].value_counts().index)\n",
    "plt.title('Distribuição da Hora do Dia por Tipo de Acidente', fontsize=16)\n",
    "plt.xlabel('Hora do Dia (0-23)', fontsize=12)\n",
    "plt.ylabel('Tipo de Acidente', fontsize=12)\n",
    "plt.tight_layout()\n",
    "plt.show()"
   ]
  }
 ],
 "metadata": {
  "kernelspec": {
   "display_name": ".venv",
   "language": "python",
   "name": "python3"
  },
  "language_info": {
   "codemirror_mode": {
    "name": "ipython",
    "version": 3
   },
   "file_extension": ".py",
   "mimetype": "text/x-python",
   "name": "python",
   "nbconvert_exporter": "python",
   "pygments_lexer": "ipython3",
   "version": "3.12.10"
  }
 },
 "nbformat": 4,
 "nbformat_minor": 4
}
